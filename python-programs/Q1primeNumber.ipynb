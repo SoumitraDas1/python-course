{
 "cells": [
  {
   "cell_type": "markdown",
   "metadata": {},
   "source": [
    "# Python Program to Check Prime Number\n",
    "- ## What is a prime Number?\n",
    "- A natural number (1, 2, 3, 4, 5, 6, etc.) is called a prime number (or a prime) if it is greater than 1 and cannot be written as the product of two smaller natural numbers. OR,\n",
    "Prime numbers are those natural numbers divisible by only 1 and the number itself.\n",
    "- Example: 2, 3, 5, 7 etc."
   ]
  },
  {
   "cell_type": "markdown",
   "metadata": {},
   "source": [
    "## Q1. Check whether a given number is prime or not.\n",
    "- ### Understand the Problem\n",
    "    1. A prime number is a number greater than 1 that has no divisors other than 1 and itself.\n",
    "    2. To check if a number is prime, we need to ensure it is not divisible by any number other than 1 and itself."
   ]
  },
  {
   "cell_type": "markdown",
   "metadata": {},
   "source": [
    "### Approcah1:\n",
    "- Simple Approach \n",
    "- Input the Number\n",
    "- Handle Edge Cases:\n",
    "    - If the number is less than or equal to 1, it is not a prime number.\n",
    "- Loop Through Possible Divisors:\n",
    "    - Use a for loop starting from 2 to n-1 (where n is the given number).\n",
    "    - For each number in this range:\n",
    "    - Check if the given number is divisible by the current number (using the modulus operator %).\n",
    "    - If divisible, it means the number is not prime.\n",
    "    - Break the loop early to save computation.\n",
    "- Determine the Result:\n",
    "    - If no divisors are found in the loop, the number is prime.\n",
    "- Output the Result:\n",
    "    - Print whether the number is prime or not."
   ]
  },
  {
   "cell_type": "markdown",
   "metadata": {},
   "source": [
    "- ### Python Program Without using user defined function"
   ]
  },
  {
   "cell_type": "code",
   "execution_count": 6,
   "metadata": {},
   "outputs": [
    {
     "name": "stdout",
     "output_type": "stream",
     "text": [
      "Enter a number: 5\n",
      "5 is a prime number.\n"
     ]
    }
   ],
   "source": [
    "# Input from the user\n",
    "num = int(input(\"Enter a number: \"))\n",
    "\n",
    "# Check if the number is prime\n",
    "if num <= 1:\n",
    "    print(f\"{num} is not a prime number.\")  # Numbers <= 1 are not prime\n",
    "else:\n",
    "    is_prime = 1\n",
    "    \"\"\"\n",
    "    An identifier `is_prime` used to check wheather a number is prime or not. \n",
    "    After the loop if the \"is_prime\" value is still 1 then it is a prime number else\n",
    "    it is not a prime number\n",
    "    \"\"\"\n",
    "    for i in range(2, num):  # Loop from 2 to num-1\n",
    "        if num % i == 0:\n",
    "            is_prime = 0\n",
    "            break  # Exit loop if a divisor is found\n",
    "    \n",
    "    if is_prime == 1:\n",
    "        print(f\"{num} is a prime number.\")\n",
    "    else:\n",
    "        print(f\"{num} is not a prime number.\")\n"
   ]
  },
  {
   "cell_type": "markdown",
   "metadata": {},
   "source": [
    "- ### Python Program using *function*"
   ]
  },
  {
   "cell_type": "code",
   "execution_count": 8,
   "metadata": {},
   "outputs": [
    {
     "name": "stdout",
     "output_type": "stream",
     "text": [
      "Enter a number: 5\n",
      "5 is a prime number.\n"
     ]
    }
   ],
   "source": [
    "#create a funtion `is_prime_simple` to check wheather a number is prime or not\n",
    "def is_prime_simple(number):\n",
    "    if number <= 1:\n",
    "        return False  # Numbers less than or equal to 1 are not prime\n",
    "    \n",
    "    # Check divisors from 2 to number - 1\n",
    "    for i in range(2, number):\n",
    "        if number % i == 0:\n",
    "            return False  # Number is divisible by i, so not prime\n",
    "    \n",
    "    return True  # No divisors found, so it's prime\n",
    "\n",
    "# Input from the user\n",
    "num = int(input(\"Enter a number: \"))\n",
    "\n",
    "# Check if the number is prime\n",
    "if is_prime_simple(num):\n",
    "    print(f\"{num} is a prime number.\")\n",
    "else:\n",
    "    print(f\"{num} is not a prime number.\")\n"
   ]
  },
  {
   "cell_type": "markdown",
   "metadata": {},
   "source": [
    "- ### Time Complexity of this approach\n",
    "|Case|Time Complexity|\n",
    "|---|---|\n",
    "|Best Case|O(1)|\n",
    "|Worst Case|O(n)|\n",
    "|Average Case|O(n)|"
   ]
  },
  {
   "cell_type": "markdown",
   "metadata": {},
   "source": [
    "This approach is simple but inefficient for large numbers because it involves iterating through almost all numbers less than n. For a more efficient solution, you could reduce the loop to check up to the square root of n (O($\\sqrt{n}$)\n"
   ]
  },
  {
   "cell_type": "markdown",
   "metadata": {},
   "source": [
    "### Approach 2: Optimized Prime Check (Using Square Root)\n",
    "- A number n is not prime if it has a divisor other than 1 and itself.\n",
    "- If n is divisible by any number greater than $\\sqrt{n}$, it must also be divisible by a number smaller than $\\sqrt{n}$.\n",
    "- Therefore, it is sufficient to check divisors only up to $\\sqrt{n}$"
   ]
  },
  {
   "cell_type": "code",
   "execution_count": 11,
   "metadata": {},
   "outputs": [
    {
     "name": "stdout",
     "output_type": "stream",
     "text": [
      "Enter a number: 9\n",
      "9 is not a prime number.\n"
     ]
    }
   ],
   "source": [
    "def is_prime(number):\n",
    "    if number <= 1:\n",
    "        return False  # Numbers less than or equal to 1 are not prime\n",
    "    for i in range(2, int(number ** 0.5) + 1):  # number ** 0.5 = sqrt(number)\n",
    "        if number % i == 0:\n",
    "            return False  # Number is divisible by another number, so not prime\n",
    "    return True  # Number is prime\n",
    "\n",
    "# Input from the user\n",
    "num = int(input(\"Enter a number: \"))\n",
    "\n",
    "# Check if the number is prime\n",
    "if is_prime(num):\n",
    "    print(f\"{num} is a prime number.\")\n",
    "else:\n",
    "    print(f\"{num} is not a prime number.\")\n"
   ]
  },
  {
   "cell_type": "markdown",
   "metadata": {},
   "source": [
    "- ### Time Complexity of this approach\n",
    "|Case|Time Complexity|\n",
    "|---|---|\n",
    "|Best Case|O(1)|\n",
    "|Worst Case|O($\\sqrt{n}$)|\n",
    "|Average Case|O($\\sqrt{n}$)|"
   ]
  },
  {
   "cell_type": "markdown",
   "metadata": {},
   "source": [
    "## Q2. Find all the prime numbers in a given range. (Ex. Find prime numbers within 1000)"
   ]
  },
  {
   "cell_type": "code",
   "execution_count": 15,
   "metadata": {},
   "outputs": [
    {
     "name": "stdout",
     "output_type": "stream",
     "text": [
      "Enter the First Number of the Range: 1\n",
      "Enter the Last Number of the Range: 100\n",
      "All the prime Numbers within 1 to 100 are : [2, 3, 5, 7, 11, 13, 17, 19, 23, 29, 31, 37, 41, 43, 47, 53, 59, 61, 67, 71, 73, 79, 83, 89, 97]\n"
     ]
    }
   ],
   "source": [
    "def is_prime(number):\n",
    "    if number <= 1:\n",
    "        return False  # numbers less than or equal to 1 are not prime\n",
    "    for i in range(2, int(number ** 0.5) + 1):  # number ** 0.5 = sqrt(number)\n",
    "        if number % i == 0:\n",
    "            return False  # number is divisible by another Number, so not prime\n",
    "    return True  # number is prime\n",
    "start = int(input(\"Enter the First Number of the Range: \"))\n",
    "end = int(input(\"Enter the Last Number of the Range: \"))\n",
    "prime_numbers = [] # List to store all the prime numbers\n",
    "for i in range(start, end + 1):\n",
    "    if is_prime(i):\n",
    "        prime_numbers.append(i)\n",
    "    else:\n",
    "        continue\n",
    "print(f\"All the prime Numbers within {start} to {end} are : {prime_numbers}\")"
   ]
  },
  {
   "cell_type": "code",
   "execution_count": null,
   "metadata": {},
   "outputs": [],
   "source": []
  }
 ],
 "metadata": {
  "kernelspec": {
   "display_name": "Python 3 (ipykernel)",
   "language": "python",
   "name": "python3"
  },
  "language_info": {
   "codemirror_mode": {
    "name": "ipython",
    "version": 3
   },
   "file_extension": ".py",
   "mimetype": "text/x-python",
   "name": "python",
   "nbconvert_exporter": "python",
   "pygments_lexer": "ipython3",
   "version": "3.11.4"
  }
 },
 "nbformat": 4,
 "nbformat_minor": 2
}
